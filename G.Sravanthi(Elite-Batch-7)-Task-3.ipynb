{
 "cells": [
  {
   "cell_type": "code",
   "execution_count": null,
   "id": "330e2056-c398-4cd4-8289-c482be4c11b7",
   "metadata": {},
   "outputs": [],
   "source": [
    "# 1. polar co-ordinates\n",
    "\n",
    "import cmath\n",
    "\n",
    "z=complex(input())\n",
    "a=z.real\n",
    "b=z.imag\n",
    "print(abs(complex(a,b)))\n",
    "print(cmath.phase(complex(a,b)))\n"
   ]
  },
  {
   "cell_type": "code",
   "execution_count": null,
   "id": "9da3af7f-06d1-4c17-80ce-b82ad9b8cc10",
   "metadata": {},
   "outputs": [],
   "source": [
    "#2.angle bewteen mbc\n",
    "\n",
    "\n",
    "import math\n",
    "from math import atan,degrees\n",
    "ab=int(input())\n",
    "bc=int(input())\n",
    "print(str(round(degrees(math.atan(ab/bc))))+chr(176))\n"
   ]
  },
  {
   "cell_type": "code",
   "execution_count": null,
   "id": "d3e5625a-9d5d-44be-9644-3f4c761f47e1",
   "metadata": {},
   "outputs": [],
   "source": [
    "#3.Triangle quest 2\n",
    "\n",
    "\n",
    "for i in range(1,int(input())+1): \n",
    "    print((10**i//9)**2) \n"
   ]
  },
  {
   "cell_type": "code",
   "execution_count": null,
   "id": "6081041d-a85c-46c5-b78a-76734c695f6e",
   "metadata": {},
   "outputs": [],
   "source": [
    "#4.Mod-Divmod\n",
    "\n",
    "a = int(input())\n",
    "b = int(input())\n",
    "print (a // b)\n",
    "print (a % b)\n",
    "print (divmod(a,b))\n"
   ]
  },
  {
   "cell_type": "code",
   "execution_count": null,
   "id": "6ee185f9-d98b-42e7-a842-499289461ff6",
   "metadata": {},
   "outputs": [],
   "source": [
    "#5.Power-Modpower\n",
    "\n",
    "a, b, m = [int(input()) for _ in range(3)]\n",
    "print(pow(a,b), pow(a, b, m),sep='\\n')\n"
   ]
  },
  {
   "cell_type": "code",
   "execution_count": null,
   "id": "c7a1eb33-a4c2-4215-ae1d-afd0cf1f4a29",
   "metadata": {},
   "outputs": [],
   "source": [
    "#6.Integers in all sizes\n",
    "\n",
    "a = int(input())\n",
    "b = int(input())\n",
    "c = int(input())\n",
    "d = int(input())\n",
    "print(a**b+c**d)\n"
   ]
  },
  {
   "cell_type": "code",
   "execution_count": null,
   "id": "8f5b6f83-5972-476b-b57c-502ed0a99052",
   "metadata": {},
   "outputs": [],
   "source": [
    "#7.Triangle quest\n",
    "\n",
    "for i in range(1,int(input())): \n",
    "    print(((10**i)//9)*i)\n"
   ]
  }
 ],
 "metadata": {
  "kernelspec": {
   "display_name": "Python 3 (ipykernel)",
   "language": "python",
   "name": "python3"
  },
  "language_info": {
   "codemirror_mode": {
    "name": "ipython",
    "version": 3
   },
   "file_extension": ".py",
   "mimetype": "text/x-python",
   "name": "python",
   "nbconvert_exporter": "python",
   "pygments_lexer": "ipython3",
   "version": "3.9.12"
  }
 },
 "nbformat": 4,
 "nbformat_minor": 5
}
